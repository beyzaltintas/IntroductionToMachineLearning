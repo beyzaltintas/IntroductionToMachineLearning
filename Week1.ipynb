{
 "cells": [
  {
   "cell_type": "markdown",
   "id": "7c706734",
   "metadata": {},
   "source": [
    "**Python Basics**"
   ]
  },
  {
   "cell_type": "code",
   "execution_count": 1,
   "id": "4052efe6",
   "metadata": {},
   "outputs": [
    {
     "name": "stdout",
     "output_type": "stream",
     "text": [
      "10\n"
     ]
    }
   ],
   "source": [
    "var = 10  #değişken tanımlama\n",
    "var2 = 15\n",
    "\n",
    "gun = \"pazartesi\"\n",
    "\n",
    "print(var) #değişken yazdırma"
   ]
  },
  {
   "cell_type": "code",
   "execution_count": 2,
   "id": "a415025d",
   "metadata": {},
   "outputs": [
    {
     "data": {
      "text/plain": [
       "list"
      ]
     },
     "execution_count": 2,
     "metadata": {},
     "output_type": "execute_result"
    }
   ],
   "source": [
    "#list\n",
    "\n",
    "var1 = 10\n",
    "var2 = 20\n",
    "var3 = 30\n",
    "\n",
    "list_int = [10,20,30]\n",
    "type(list_int)"
   ]
  },
  {
   "cell_type": "code",
   "execution_count": 3,
   "id": "02f9100b",
   "metadata": {},
   "outputs": [
    {
     "data": {
      "text/plain": [
       "10"
      ]
     },
     "execution_count": 3,
     "metadata": {},
     "output_type": "execute_result"
    }
   ],
   "source": [
    "list_int[0] #listenin ilk değerini yazdırır\n"
   ]
  },
  {
   "cell_type": "code",
   "execution_count": 4,
   "id": "8605ce58",
   "metadata": {},
   "outputs": [
    {
     "data": {
      "text/plain": [
       "30"
      ]
     },
     "execution_count": 4,
     "metadata": {},
     "output_type": "execute_result"
    }
   ],
   "source": [
    "list_int[-1] #listenin son değerini yazdırır"
   ]
  },
  {
   "cell_type": "code",
   "execution_count": 5,
   "id": "c0a20a0c",
   "metadata": {},
   "outputs": [
    {
     "data": {
      "text/plain": [
       "[10, 20, 30]"
      ]
     },
     "execution_count": 5,
     "metadata": {},
     "output_type": "execute_result"
    }
   ],
   "source": [
    "list_int[0:3] #listeyi aralık vererek yazdırır"
   ]
  },
  {
   "cell_type": "code",
   "execution_count": 9,
   "id": "2f1a98ed",
   "metadata": {},
   "outputs": [
    {
     "name": "stdout",
     "output_type": "stream",
     "text": [
      "[10, 20, 30, 7, 7, 7, 7]\n"
     ]
    }
   ],
   "source": [
    "list_int.append(7) #listeye yeni eleman ekler\n",
    "print(list_int)"
   ]
  },
  {
   "cell_type": "code",
   "execution_count": 10,
   "id": "2c3c5c80",
   "metadata": {},
   "outputs": [],
   "source": [
    "list_int.remove(7) #listeden eleman siler"
   ]
  },
  {
   "cell_type": "code",
   "execution_count": 11,
   "id": "f769ce2e",
   "metadata": {},
   "outputs": [
    {
     "name": "stdout",
     "output_type": "stream",
     "text": [
      "[10, 20, 30, 7, 7, 7]\n"
     ]
    }
   ],
   "source": [
    "print(list_int)"
   ]
  },
  {
   "cell_type": "code",
   "execution_count": 14,
   "id": "2f363de8",
   "metadata": {},
   "outputs": [],
   "source": [
    "list_int.remove(7)"
   ]
  },
  {
   "cell_type": "code",
   "execution_count": 15,
   "id": "de8b79f2",
   "metadata": {},
   "outputs": [],
   "source": [
    "list_int.remove(7)"
   ]
  },
  {
   "cell_type": "code",
   "execution_count": 16,
   "id": "9ed3adae",
   "metadata": {},
   "outputs": [
    {
     "name": "stdout",
     "output_type": "stream",
     "text": [
      "[10, 20, 30, 7]\n"
     ]
    }
   ],
   "source": [
    "print(list_int)"
   ]
  },
  {
   "cell_type": "code",
   "execution_count": 17,
   "id": "67e8af77",
   "metadata": {},
   "outputs": [
    {
     "name": "stdout",
     "output_type": "stream",
     "text": [
      "[7, 30, 20, 10]\n"
     ]
    }
   ],
   "source": [
    "#listeyi tersine çevirme\n",
    "list_int.reverse()\n",
    "print(list_int)"
   ]
  },
  {
   "cell_type": "code",
   "execution_count": 18,
   "id": "bcdc5b7a",
   "metadata": {},
   "outputs": [
    {
     "name": "stdout",
     "output_type": "stream",
     "text": [
      "[7, 10, 20, 30]\n"
     ]
    }
   ],
   "source": [
    "#listeyi artan sırayla yazdırma\n",
    "list_int.sort()\n",
    "print(list_int)"
   ]
  },
  {
   "cell_type": "code",
   "execution_count": 19,
   "id": "13ac97ae",
   "metadata": {},
   "outputs": [
    {
     "name": "stdout",
     "output_type": "stream",
     "text": [
      "1\n",
      "2\n",
      "3\n",
      "4\n",
      "5\n",
      "6\n",
      "7\n",
      "8\n",
      "9\n",
      "10\n"
     ]
    }
   ],
   "source": [
    "#for loop\n",
    "\n",
    "for each in range(1,11):\n",
    "    print(each)\n"
   ]
  },
  {
   "cell_type": "code",
   "execution_count": 22,
   "id": "dc052240",
   "metadata": {},
   "outputs": [
    {
     "name": "stdout",
     "output_type": "stream",
     "text": [
      "30\n"
     ]
    }
   ],
   "source": [
    "minimum = 10 \n",
    "\n",
    "for each in list_int:\n",
    "    if(each>minimum):\n",
    "        minimum= each\n",
    "    else:\n",
    "        continue\n",
    "print(minimum)"
   ]
  },
  {
   "cell_type": "code",
   "execution_count": 23,
   "id": "7487eb8d",
   "metadata": {},
   "outputs": [
    {
     "name": "stdout",
     "output_type": "stream",
     "text": [
      "0\n",
      "1\n",
      "2\n",
      "3\n"
     ]
    }
   ],
   "source": [
    "#while loop\n",
    "\n",
    "i=0\n",
    "\n",
    "while(i<4):\n",
    "    print(i)\n",
    "    \n",
    "    i = i+1"
   ]
  },
  {
   "cell_type": "code",
   "execution_count": 24,
   "id": "9d306faa",
   "metadata": {},
   "outputs": [
    {
     "data": {
      "text/plain": [
       "12.56"
      ]
     },
     "execution_count": 24,
     "metadata": {},
     "output_type": "execute_result"
    }
   ],
   "source": [
    "#defining function\n",
    "\n",
    "def cember_cevre(r,pi=3.14):\n",
    "    output = 2*pi*r\n",
    "    return output\n",
    "\n",
    "cember_cevre(2)"
   ]
  },
  {
   "cell_type": "code",
   "execution_count": 25,
   "id": "6fc8260d",
   "metadata": {},
   "outputs": [
    {
     "name": "stdout",
     "output_type": "stream",
     "text": [
      "4\n",
      "4\n"
     ]
    }
   ],
   "source": [
    "#lambda function\n",
    "def hesapla(x):\n",
    "    output = x*x\n",
    "    return output\n",
    "\n",
    "sonuc=hesapla(2)\n",
    "print(sonuc)\n",
    "\n",
    "sonuc2 = lambda x: x*x\n",
    "print(sonuc2(2))"
   ]
  },
  {
   "cell_type": "code",
   "execution_count": 27,
   "id": "b694d743",
   "metadata": {},
   "outputs": [
    {
     "name": "stdout",
     "output_type": "stream",
     "text": [
      "{'beyza': 23, 'esra': 25, 'tuğba': 24}\n"
     ]
    }
   ],
   "source": [
    "#defining dictionary\n",
    "\n",
    "dictionary= {\"beyza\":23,\"esra\":25,\"tuğba\":24}\n",
    "print(dictionary)"
   ]
  },
  {
   "cell_type": "code",
   "execution_count": 28,
   "id": "27875521",
   "metadata": {},
   "outputs": [
    {
     "data": {
      "text/plain": [
       "dict"
      ]
     },
     "execution_count": 28,
     "metadata": {},
     "output_type": "execute_result"
    }
   ],
   "source": [
    "type(dictionary)"
   ]
  },
  {
   "cell_type": "code",
   "execution_count": 29,
   "id": "9da29b9f",
   "metadata": {},
   "outputs": [
    {
     "data": {
      "text/plain": [
       "dict_keys(['beyza', 'esra', 'tuğba'])"
      ]
     },
     "execution_count": 29,
     "metadata": {},
     "output_type": "execute_result"
    }
   ],
   "source": [
    "dictionary.keys() #dictionary keylerini yazdırır"
   ]
  },
  {
   "cell_type": "code",
   "execution_count": 30,
   "id": "9c241494",
   "metadata": {},
   "outputs": [
    {
     "data": {
      "text/plain": [
       "dict_values([23, 25, 24])"
      ]
     },
     "execution_count": 30,
     "metadata": {},
     "output_type": "execute_result"
    }
   ],
   "source": [
    "dictionary.values() #dictionary değerlerini yazdırır"
   ]
  },
  {
   "cell_type": "code",
   "execution_count": 31,
   "id": "40ce9631",
   "metadata": {},
   "outputs": [
    {
     "name": "stdout",
     "output_type": "stream",
     "text": [
      "yes\n"
     ]
    }
   ],
   "source": [
    "keys = dictionary.keys()\n",
    "\n",
    "if \"beyza\" in keys:\n",
    "    print(\"yes\")\n",
    "else:\n",
    "    print(\"no\")"
   ]
  },
  {
   "cell_type": "code",
   "execution_count": null,
   "id": "0cf9ed72",
   "metadata": {},
   "outputs": [],
   "source": []
  }
 ],
 "metadata": {
  "kernelspec": {
   "display_name": "Python 3 (ipykernel)",
   "language": "python",
   "name": "python3"
  },
  "language_info": {
   "codemirror_mode": {
    "name": "ipython",
    "version": 3
   },
   "file_extension": ".py",
   "mimetype": "text/x-python",
   "name": "python",
   "nbconvert_exporter": "python",
   "pygments_lexer": "ipython3",
   "version": "3.9.13"
  }
 },
 "nbformat": 4,
 "nbformat_minor": 5
}
